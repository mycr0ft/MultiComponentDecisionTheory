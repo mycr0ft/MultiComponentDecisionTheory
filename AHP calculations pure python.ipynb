{
 "cells": [
  {
   "cell_type": "markdown",
   "id": "3ab7e544-e55c-4bc9-9c8d-5b0d802f6ddb",
   "metadata": {},
   "source": [
    "# Formal Methods of Ranking Alternative Choices and Applications to Architecture Selection\n",
    "\n",
    "### Dr. Jon Fox jon.fox@gtri.gatech.edu\n",
    "### Principal Research Scientist, GTRI ASL\n",
    "\n",
    "---\n",
    "\n",
    "# Methods of Multi-Criteria Decision Making\n",
    "\n",
    "1. Analytical Hierarchy Method\n",
    "2. Analytical Network Method\n",
    "3. Fuzzy Analytical Hierarchy Method\n",
    "4. Technique for Order of Preference by Similarity to Ideal Solution (TOPSIS) \n",
    "5. Fuzzy TOPSIS\n",
    "\n",
    "---\n",
    "\n",
    "# Introduction\n",
    "\n",
    "* You need to make a decision.\n",
    "* You need to make a decision in a rational way. \n",
    "* You need to standardize and document your decision making process.\n",
    "* You can break apart the criteria for your decision and assign importance to different potential benefits and costs. \n",
    "* You can assign scores how alternative choices rank in the criteria for your decision."
   ]
  },
  {
   "cell_type": "markdown",
   "id": "66042e81-18da-44e9-94df-08a211170ef8",
   "metadata": {},
   "source": [
    "--- \n",
    "\n",
    "# Analytical Hierarchy Process (AHP)\n",
    "\n",
    "\"In using the AHP to model a problem, one needs a hierarchic or a network\n",
    "structure to represent that problem, as well as pairwise comparisons to establish\n",
    "relations within the structure.\"\n",
    "\n",
    "* Invented and refined by Thomas L. Saaty (1926-2017)\n",
    "1. Select a Goal\n",
    "2. Select criteria for reaching the goal, such as expected qualities attributes. \n",
    "3. Determine the relative importance of different attributes or critera with respect to the goal. \n",
    "4. Convert that set of pairwise factors into a matrix. Normalize it. Calculate eigenvectors. \n",
    "\n"
   ]
  },
  {
   "cell_type": "markdown",
   "id": "97d81afa-6c55-4f3d-b2c4-46521ff13944",
   "metadata": {},
   "source": [
    "## Buy a phone\n",
    "\n",
    "![Example 1](example1.svg)"
   ]
  },
  {
   "cell_type": "markdown",
   "id": "0fb356c5-0872-47b7-a58d-69a6028c60c3",
   "metadata": {},
   "source": [
    "## Example of Klaus Geopel\n",
    "\n",
    "https://www.youtube.com/watch?v=18GWVtVAAzs \n",
    "\n",
    "* Memory is moderately more important than color. ( color/memory = $1/3$)\n",
    "* Availability is somewhat more important than color (color/availability = $1/2$ )\n",
    "* Memory and Availability of equal importance (memory/availabilty = 1 )\n",
    "\n",
    "|               | Color  | Memory | Availability |\n",
    "|---------------|--------|--------|---------------|\n",
    "| Color         |   1    |    1/3 |  1/2          |\n",
    "| Memory        |   3    |    1   |  1            |\n",
    "| Availability  |   2    |    1   |  1            |\n",
    "\n"
   ]
  },
  {
   "cell_type": "markdown",
   "id": "3777516b-eda4-4163-ae12-46ebf9cb3a32",
   "metadata": {},
   "source": [
    "## Compute the eigenvector of the normalized pairwise-comparison matrix. \n",
    "\n",
    "### Sum the columns of the $n \\times n$ matrix\n",
    "\n"
   ]
  },
  {
   "cell_type": "code",
   "execution_count": 1,
   "id": "0216af08-18ca-499d-8ae4-2aab56ac9f55",
   "metadata": {},
   "outputs": [],
   "source": [
    "# import numpy as np\n",
    "import array as ar"
   ]
  },
  {
   "cell_type": "code",
   "execution_count": 5,
   "id": "3e9df543-9f34-4fec-9db1-a38d090ca127",
   "metadata": {},
   "outputs": [],
   "source": [
    "#pairwise = ar.array( 'd', [ [1, 1/3.0 , 1/2.0], [3, 1, 1],[2, 1, 1] ])\n",
    "pairwise = [ [1, 1/3.0 , 1/2.0], [3, 1, 1],[2, 1, 1] ]"
   ]
  },
  {
   "cell_type": "code",
   "execution_count": 11,
   "id": "92473e3c",
   "metadata": {},
   "outputs": [
    {
     "data": {
      "text/plain": [
       "2.333333333333333"
      ]
     },
     "execution_count": 11,
     "metadata": {},
     "output_type": "execute_result"
    }
   ],
   "source": [
    "def colsum( arr, i):\n",
    "    s = 0\n",
    "    for row in arr:\n",
    "        s += row[i]\n",
    "    return s\n",
    "        \n",
    "colsum(pairwise, 1)"
   ]
  },
  {
   "cell_type": "code",
   "execution_count": 14,
   "id": "3f1aa342",
   "metadata": {},
   "outputs": [
    {
     "data": {
      "text/plain": [
       "[3, 3]"
      ]
     },
     "execution_count": 14,
     "metadata": {},
     "output_type": "execute_result"
    }
   ],
   "source": [
    "def shape(arr):\n",
    "    a = len(arr)\n",
    "    b = len(arr[0])\n",
    "    return[a,b]\n",
    "\n",
    "shape(pairwise)"
   ]
  },
  {
   "cell_type": "code",
   "execution_count": 17,
   "id": "ce8659f4",
   "metadata": {},
   "outputs": [
    {
     "data": {
      "text/plain": [
       "[[0.0, 0.0], [0.0, 0.0], [0.0, 0.0]]"
      ]
     },
     "execution_count": 17,
     "metadata": {},
     "output_type": "execute_result"
    }
   ],
   "source": [
    "def zeros(shape):\n",
    "    arr = []\n",
    "    for i in range(shape[0]):\n",
    "        sub_arr = []\n",
    "        for j in range(shape[1]):\n",
    "            sub_arr.append( 0.0 )\n",
    "        arr.append(sub_arr)\n",
    "    return arr\n",
    "\n",
    "zeros( [3,2])"
   ]
  },
  {
   "cell_type": "markdown",
   "id": "97ad97ed-9def-4f3e-ab21-16726ab94ced",
   "metadata": {},
   "source": [
    "### Compute sum of columns of pair-wise comparison matrix"
   ]
  },
  {
   "cell_type": "code",
   "execution_count": 15,
   "id": "1f976930-7176-4ef9-9c90-ef0f75cdff1c",
   "metadata": {},
   "outputs": [
    {
     "data": {
      "text/plain": [
       "[6, 2.333333333333333, 2.5]"
      ]
     },
     "execution_count": 15,
     "metadata": {},
     "output_type": "execute_result"
    }
   ],
   "source": [
    "def calc_colsum( pairwise):\n",
    "    # colsum = lambda arr,i: sum(arr[:, i])\n",
    "    cols = []\n",
    "    for a in range(shape(pairwise)[1]):\n",
    "        x = colsum( pairwise, a)\n",
    "        cols.append(x)\n",
    "    return cols\n",
    "\n",
    "colsums = calc_colsum( pairwise)\n",
    "colsums"
   ]
  },
  {
   "cell_type": "markdown",
   "id": "c422f5dc-053f-4d99-a10c-6abac9030f28",
   "metadata": {},
   "source": [
    "### Normalize the array columns to the column sum of the pairwise comparison matrix"
   ]
  },
  {
   "cell_type": "code",
   "execution_count": 39,
   "id": "4e4c8593-91d8-43eb-a701-ae3330765146",
   "metadata": {},
   "outputs": [
    {
     "data": {
      "text/plain": [
       "[[0.16666666666666666, 0.14285714285714288, 0.2],\n",
       " [0.5, 0.4285714285714286, 0.4],\n",
       " [0.3333333333333333, 0.4285714285714286, 0.4]]"
      ]
     },
     "execution_count": 39,
     "metadata": {},
     "output_type": "execute_result"
    }
   ],
   "source": [
    "def calc_normalized_pairwise( pairwise):\n",
    "    cols = calc_colsum(pairwise)\n",
    "    pairwise_normalized = zeros(shape(pairwise))\n",
    "    for i in range(shape(pairwise)[1]):\n",
    "        for j in range(shape(pairwise)[0]):\n",
    "            pairwise_normalized[j][i] = pairwise[j][i]/cols[i]\n",
    "    return pairwise_normalized\n",
    "\n",
    "cnp = calc_normalized_pairwise( pairwise)\n",
    "cnp"
   ]
  },
  {
   "cell_type": "code",
   "execution_count": 103,
   "id": "d12318fd-0d04-421f-9597-1e8e3e5ebc12",
   "metadata": {},
   "outputs": [],
   "source": [
    "import numpy.linalg\n",
    "\n",
    "w, v = numpy.linalg.eig(cnp)"
   ]
  },
  {
   "cell_type": "code",
   "execution_count": 104,
   "id": "3b3bfe6a-c07e-493e-a3d5-c7c81c25f216",
   "metadata": {},
   "outputs": [
    {
     "data": {
      "text/plain": [
       "array([ 1.        +0.j        , -0.00238095+0.06896547j,\n",
       "       -0.00238095-0.06896547j])"
      ]
     },
     "execution_count": 104,
     "metadata": {},
     "output_type": "execute_result"
    }
   ],
   "source": []
  },
  {
   "cell_type": "code",
   "execution_count": 109,
   "id": "2acff154-a732-44c8-91ca-ddad95f43498",
   "metadata": {},
   "outputs": [
    {
     "data": {
      "text/plain": [
       "array([0.13886475, 0.35101923, 0.3278751 ])"
      ]
     },
     "execution_count": 109,
     "metadata": {},
     "output_type": "execute_result"
    }
   ],
   "source": [
    "np.real(v[:,0])/2"
   ]
  },
  {
   "cell_type": "markdown",
   "id": "85596fb7-ab02-4472-850a-cee3594ff883",
   "metadata": {},
   "source": [
    "### Compute the Criteria Weights by averaging the weights along the rows of the normalized pairwise comparison matrix\n",
    "\n",
    "$$ x = \\left ( \\begin{array}{c}\n",
    "                   \\frac {\\sum \\rm{row_1}}{n} \\\\\n",
    "                   \\frac {\\sum \\rm{row_2}}{n} \\\\\n",
    "                   \\frac {\\sum \\rm{row_2}}{n} \n",
    "               \\end{array}\n",
    "       \\right ) $$"
   ]
  },
  {
   "cell_type": "code",
   "execution_count": 54,
   "id": "77b6a1f5-8ab3-4333-8a85-4bf8b2c129c0",
   "metadata": {},
   "outputs": [
    {
     "data": {
      "text/plain": [
       "[[0.16984126984126985], [0.44285714285714284], [0.38730158730158726]]"
      ]
     },
     "execution_count": 54,
     "metadata": {},
     "output_type": "execute_result"
    }
   ],
   "source": [
    "def calc_crit_weights( normalized):\n",
    "    crit_weights = []\n",
    "    width = shape(normalized)[0]\n",
    "    for j in range(width):\n",
    "        c = 0\n",
    "        for i in range(shape(normalized)[1]):\n",
    "            c += normalized[j][i]/width\n",
    "        crit_weights.append(c)\n",
    "    return crit_weights\n",
    "cw = calc_crit_weights( cnp)\n",
    "cw\n",
    "cw_col = [ [i] for i in cw]\n",
    "cw_col"
   ]
  },
  {
   "cell_type": "code",
   "execution_count": 49,
   "id": "b8e2be08",
   "metadata": {},
   "outputs": [
    {
     "data": {
      "text/plain": [
       "[[12.0, 18.0], [27.0, 42.0], [42.0, 66.0], [57.0, 90.0]]"
      ]
     },
     "execution_count": 49,
     "metadata": {},
     "output_type": "execute_result"
    }
   ],
   "source": [
    "# https://stackoverflow.com/questions/10508021/matrix-multiplication-in-pure-python\n",
    "\n",
    "def matmult(a,b):\n",
    "    \"multiples two 2-dimensional matrices together\"\n",
    "    zip_b = zip(*b)\n",
    "    # uncomment next line if python 3 : \n",
    "    zip_b = list(zip_b)\n",
    "    return [[sum(ele_a*ele_b for ele_a, ele_b in zip(row_a, col_b)) \n",
    "             for col_b in zip_b] for row_a in a]\n",
    "\n",
    "x = [[1,2,3],[4,5,6],[7,8,9],[10,11,12]]\n",
    "y = [[1.0,2.0],[1,2],[3,4]]\n",
    "matmult(x,y)"
   ]
  },
  {
   "cell_type": "code",
   "execution_count": 50,
   "id": "fc37ff28",
   "metadata": {},
   "outputs": [
    {
     "data": {
      "text/plain": [
       "[(1.0, 1, 3), (2.0, 2, 4)]"
      ]
     },
     "execution_count": 50,
     "metadata": {},
     "output_type": "execute_result"
    }
   ],
   "source": [
    "list(zip(*y))"
   ]
  },
  {
   "cell_type": "code",
   "execution_count": 55,
   "id": "bc4be0a2-1def-4d60-90f0-1793b330e67c",
   "metadata": {},
   "outputs": [
    {
     "data": {
      "text/plain": [
       "[[0.16903250188964475], [0.42963718820861674], [0.40133030990173846]]"
      ]
     },
     "execution_count": 55,
     "metadata": {},
     "output_type": "execute_result"
    }
   ],
   "source": [
    "#cw = np.array(cw)\n",
    "#res = np.matmul( cnp, cw)\n",
    "#res, cw/res\n",
    "\n",
    "res = matmult(cnp, cw_col)\n",
    "res"
   ]
  },
  {
   "cell_type": "code",
   "execution_count": 59,
   "id": "98cc3c6d",
   "metadata": {},
   "outputs": [
    {
     "data": {
      "text/plain": [
       "[1.0047846889952154, 1.0307700427508313, 0.9650444477926774]"
      ]
     },
     "execution_count": 59,
     "metadata": {},
     "output_type": "execute_result"
    }
   ],
   "source": [
    "[ f/res[i][0] for i,f in enumerate(cw) ]"
   ]
  },
  {
   "cell_type": "markdown",
   "id": "26cd1eb6-757b-460d-a124-c350f0b31be0",
   "metadata": {},
   "source": [
    "## Iterate to get a better eigenvector calculation"
   ]
  },
  {
   "cell_type": "code",
   "execution_count": 137,
   "id": "8ae32af5-c28b-4273-ad48-3ea962f4de67",
   "metadata": {},
   "outputs": [
    {
     "data": {
      "text/plain": [
       "([0.16903250188964478, 0.42963718820861685, 0.4013303099017385],\n",
       " 1.0000000000000002)"
      ]
     },
     "execution_count": 137,
     "metadata": {},
     "output_type": "execute_result"
    }
   ],
   "source": [
    "cw2 = calc_crit_weights( np.matmul( cnp, cnp))\n",
    "cw2, sum(cw2)"
   ]
  },
  {
   "cell_type": "code",
   "execution_count": 138,
   "id": "a4bb0de9-b413-4b51-a7b7-38c340986efa",
   "metadata": {},
   "outputs": [
    {
     "data": {
      "text/plain": [
       "array([0.16981489, 0.4291786 , 0.40100651])"
      ]
     },
     "execution_count": 138,
     "metadata": {},
     "output_type": "execute_result"
    }
   ],
   "source": [
    "cw = np.array(cw2)\n",
    "res = np.matmul( cnp, cw)\n",
    "res"
   ]
  },
  {
   "cell_type": "code",
   "execution_count": 139,
   "id": "0fff9989-1b8e-4fba-ace4-68c32faa1d81",
   "metadata": {},
   "outputs": [
    {
     "data": {
      "text/plain": [
       "array([0.99539272, 1.00106853, 1.00080746])"
      ]
     },
     "execution_count": 139,
     "metadata": {},
     "output_type": "execute_result"
    }
   ],
   "source": [
    "cw/res"
   ]
  },
  {
   "cell_type": "code",
   "execution_count": 140,
   "id": "0ff7273a-6c5b-4edd-9ef1-352962da5737",
   "metadata": {},
   "outputs": [
    {
     "data": {
      "text/plain": [
       "array([[0.16984127, 0.44285714, 0.38730159],\n",
       "       [0.16984127, 0.44285714, 0.38730159],\n",
       "       [0.16984127, 0.44285714, 0.38730159]])"
      ]
     },
     "execution_count": 140,
     "metadata": {},
     "output_type": "execute_result"
    }
   ],
   "source": [
    "crit_weights = np.array( crit_weights)\n",
    "crit_mult = np.stack ( width*[ crit_weights],0)\n",
    "crit_mult"
   ]
  },
  {
   "cell_type": "markdown",
   "id": "d37d2897-c4f2-4af6-9dc1-72e2f08d9cc0",
   "metadata": {},
   "source": [
    "## Calculate pairwise decision matrix for sub-criteria\n",
    "\n",
    "|        | Pink | Blue | Green | Black | Red   |\n",
    "|--------|------|------|-------|-------|-------|\n",
    "| Pink   |  1   |   2  |   3   |   1/2 |  1/4  |\n",
    "| Blue   | 1/2  |  1   |   3   |  1/4  |  1/3  |\n",
    "| Green  | 1/3  |  1/3 |  1    |  1/7  |  1/7  |\n",
    "| Black  |  2   |  4   |   7   |   1   |  1/3  |\n",
    "| Red    |  4   |  3   |   7   |   3   |   1   |\n",
    "\n",
    "\n"
   ]
  },
  {
   "cell_type": "markdown",
   "id": "b9a42926-75bc-4897-acf4-851d142484cb",
   "metadata": {},
   "source": [
    "## Compute the normalized principal eigenvector of the matrix\n",
    "\n",
    "| Color  |  Weight |\n",
    "|--------|---------|\n",
    "| Pink   |   0.13  |\n",
    "| Blue   |   0.12  |\n",
    "| Green  |   0.05  |\n",
    "| Black  |   0.22  |\n",
    "| Red    |   0.49  |\n",
    "\n",
    "---\n",
    "\n",
    "## We can say that the sub-criteria should be weighted overall by the color weight\n",
    "\n",
    "$$ w_{pink} \\times w_{color} = 0.13 \\times 0.17 = 0.022 $$\n",
    "\n",
    "\n",
    "| Color  |  Weight | Over-all weight |\n",
    "|--------|---------|-----------------|\n",
    "| Pink   |   0.13  | 0.022           |\n",
    "| Blue   |   0.12  | 0.02            |\n",
    "| Green  |   0.05  | 0.009           |\n",
    "| Black  |   0.22  | 0.037           |\n",
    "| Red    |   0.49  | 0.083           |\n",
    "\n",
    "| Memory  | Weight  | Over-all weight |\n",
    "|---------|---------|-----------------|\n",
    "| 8 MB    | 0.06    | 0.02            |\n",
    "| 16 MB   | 0.07    | 0.03            |\n",
    "| 32 MB   | 0.43    | 0.19            |\n",
    "| 64 MB   | 0.44    | 0.19            |\n",
    "\n",
    "| Delivery | Weight |  Over-all weight |\n",
    "|----------|--------|------------------|\n",
    "| Immediate | 0.46   | 0.18            |\n",
    "| One Week. | 0.43.  | 0.17            |\n",
    "| 4 weeks.  | 0.12   | 0.05            |\n",
    "\n",
    "---\n",
    "\n",
    "### Examine the Alternatives \n",
    "\n",
    "| Model   | Attributes                         |\n",
    "|---------|------------------------------------|\n",
    "| Model 1 | Pink, 32 MB, immediately available | \n",
    "| Model 2 | Blue, 16 MB, immediately available |\n",
    "| Model 3 | Black, 32 MB, available in 1 week  |\n",
    "| Model 4 | Red, 64 MB, available in 4 weeks   |\n",
    "\n",
    "* Each of the alternatives is a vector of which we can calculate a score. \n",
    "\n",
    "### Examine the Alternatives \n",
    "\n",
    "| Model   | Attributes                         | Score |\n",
    "|---------|------------------------------------|-------|\n",
    "| Model 1 | Pink, 32 MB, immediately available | 0.39  |\n",
    "| Model 2 | Blue, 16 MB, immediately available | 0.23  |\n",
    "| Model 3 | Black, 32 MB, available in 1 week  | 0.40  |\n",
    "| Model 4 | Red, 64 MB, available in 4 weeks   |0.32   |\n",
    "\n"
   ]
  },
  {
   "cell_type": "code",
   "execution_count": null,
   "id": "ef71895b",
   "metadata": {},
   "outputs": [],
   "source": []
  }
 ],
 "metadata": {
  "kernelspec": {
   "display_name": "Python 3 (ipykernel)",
   "language": "python",
   "name": "python3"
  },
  "language_info": {
   "codemirror_mode": {
    "name": "ipython",
    "version": 3
   },
   "file_extension": ".py",
   "mimetype": "text/x-python",
   "name": "python",
   "nbconvert_exporter": "python",
   "pygments_lexer": "ipython3",
   "version": "3.10.4"
  }
 },
 "nbformat": 4,
 "nbformat_minor": 5
}
