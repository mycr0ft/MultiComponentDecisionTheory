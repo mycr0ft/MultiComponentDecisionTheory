{
 "cells": [
  {
   "cell_type": "markdown",
   "id": "1e75a1f7",
   "metadata": {},
   "source": [
    "# Triangular Fuzzy Numbers for Applications to Multi-Component Decision Processes"
   ]
  },
  {
   "cell_type": "code",
   "execution_count": 1,
   "id": "d43cabe8",
   "metadata": {},
   "outputs": [
    {
     "data": {
      "text/plain": [
       "'3.10.2 (main, Feb  2 2022, 08:42:42) [Clang 13.0.0 (clang-1300.0.29.3)]'"
      ]
     },
     "execution_count": 1,
     "metadata": {},
     "output_type": "execute_result"
    }
   ],
   "source": [
    "import sys\n",
    "sys.version"
   ]
  },
  {
   "cell_type": "markdown",
   "id": "f159f82e",
   "metadata": {},
   "source": [
    "* https://www.expertchoice.ir/wp-content/uploads/2017/08/FAHP-Chang-1996.pdf\n",
    "* https://arxiv.org/pdf/1311.2886.pdf\n",
    "* https://www.frontiersin.org/articles/10.3389/fpsyg.2021.715003/full\n",
    "* https://www.sciencedirect.com/science/article/pii/S0957417420305625\n",
    "* https://www.hindawi.com/journals/afs/2018/9094380/\n"
   ]
  },
  {
   "cell_type": "markdown",
   "id": "fe1691a7",
   "metadata": {},
   "source": [
    "\n",
    "Consider two triangular fuzzy numbers $M_{1}$ and $M_{2}, M_{1}=\\left(l_{1}, m_{1}, u_{1}\\right)$ and $M_{2}=\\left(l_{2}, m_{2}, u_{2}\\right) .$ Their operational laws are as follows:\n",
    "\n",
    "1. $\\begin{aligned} &\\left(l_{1}, m_{1}, u_{1}\\right) \\oplus\\left(l_{2}, m_{2}, u_{2}\\right) = \\left(l_{1}+l_{2}, m_{1}+m_{2}, u_{1}+u_{2}\\right) . \\end{aligned}$\n",
    "\n",
    "2. $\\left(l_{1}, m_{1}, u_{1}\\right) \\odot\\left(l_{2}, m_{2}, u_{2}\\right) \\approx\\left(l_{1} l_{2}, m_{1} m_{2}, u_{1} u_{2}\\right) .$\n",
    "\n",
    "3.  $(\\lambda, \\lambda, \\lambda) \\odot\\left(l_{1}, m_{1}, u_{1}\\right)=\\left(\\lambda l_{1}, \\lambda m_{1}, \\lambda u_{1}\\right)$, $\\lambda>0, \\lambda \\in R$.\n",
    "\n",
    "4. $\\left(l_{1}, m_{1}, u_{1}\\right)^{-1} \\approx\\left(1 / u_{1}, 1 / m_{1}, 1 / l_{1}\\right)$.\n"
   ]
  },
  {
   "cell_type": "code",
   "execution_count": 2,
   "id": "3c6e13bb",
   "metadata": {},
   "outputs": [
    {
     "data": {
      "text/plain": [
       "ftn(0.3333333333333333,0.5,1.0)"
      ]
     },
     "execution_count": 2,
     "metadata": {},
     "output_type": "execute_result"
    }
   ],
   "source": [
    "class ftn(object):\n",
    "    def __init__( self, l, m, h):\n",
    "        self.lmh = (l, m, h)\n",
    "    def __getitem__(self, num):\n",
    "        if num in [0,1,2]:\n",
    "            return self.lmh[num]\n",
    "        else:\n",
    "            raise IndexError(\"Triangular Fuzzy Numbers have only three indexs and {0:s} is out of range\".format( repr(num)))\n",
    "    def __setitem__( self, num, val):\n",
    "        if num in [0,1,2]:\n",
    "            q = list(self.lmh)\n",
    "            q[num] = val\n",
    "            self.lmh = tuple(q)\n",
    "        else:\n",
    "            raise IndexError(\"Triangular Fuzzy Numbers have only three indexs and {0:s} is out of range\".format( repr(num)))\n",
    "    def __repr__(self):\n",
    "        return \"ftn({0:s},{1:s},{2:s})\".format( repr( self.lmh[0]), repr(self.lmh[1]),repr(self.lmh[2]))\n",
    "    def __add__( self, other):\n",
    "        if type(other) is ftn:\n",
    "            return ftn( self.lmh[0]+other.lmh[0], self.lmh[1]+other.lmh[1], self.lmh[2]+other.lmh[2])\n",
    "        else:\n",
    "            raise TypeError(\"Addition only supports two ftns not {0:s}\".format( repr(type(other))))\n",
    "    def __mul__(self, other):\n",
    "        if type(other) is ftn:\n",
    "            return ftn( self.lmh[0]*other.lmh[0], self.lmh[1]*other.lmh[1], self.lmh[2]*other.lmh[2])\n",
    "        elif type(other) is int or type(other)is float:\n",
    "            return ftn( self.lmh[0]*other, self.lmh[1]*other, self.lmh[2]*other)\n",
    "        else:\n",
    "            raise TypeError(\"Multiplication only supports ftns and ints and floats not {0:s}\".format( repr(type(other))))\n",
    "    def __rmul__( self, other):\n",
    "        if type(other) is ftn:\n",
    "            return ftn( self.lmh[0]*other.lmh[0], self.lmh[1]*other.lmh[1], self.lmh[2]*other.lmh[2])\n",
    "        elif type(other) is int or type(other) is float:\n",
    "            return ftn( self.lmh[0]*other, self.lmh[1]*other, self.lmh[2]*other)\n",
    "        else:\n",
    "            raise TypeError(\"Only supports ints and floats not {0:s}\".format( repr(type(other))))\n",
    "    def __truediv__(self, other):\n",
    "        if type(other) is ftn:\n",
    "            return ftn( self.lmh[0]/other.lmh[2], self.lmh[1]/other.lmh[1], self.lmh[2]/other.lmh[0])\n",
    "        elif type(other) is float or type(other) is int:\n",
    "            return ftn( self.lmh[0]/other, self.lmh[1]/other, self.lmh[2]/other)\n",
    "    def __rtruediv__(self, other):\n",
    "        if type(other) is ftn:\n",
    "            return ftn( other.lmh[0]/self.lmh[2], other.lmh[1]/self.lmh[1], other.lmh[2]/self.lmh[0])\n",
    "        elif type(other) is float or type(other) is int:\n",
    "            return ftn( other/self.lmh[2], other/self.lmh[1], other/self.lmh[0])\n",
    "        else:\n",
    "            raise TypeError('Division of ftn with anything other than ftn, int, and floats is undefined')\n",
    "    def __floordiv__(self, other):\n",
    "        if type(other) is ftn:\n",
    "            return ftn( self.lmh[0]//other.lmh[2], self.lmh[1]//other.lmh[1], self.lmh[2]//other.lmh[0])\n",
    "        elif type(other) is float or type(other) is int:\n",
    "            return ftn( self.lmh[0]//other, self.lmh[1]//other, self.lmh[2]//other)\n",
    "        else:\n",
    "            raise TypeError('Division of ftn with anything other than ftn, int, and floats is undefined')\n",
    "            \n",
    "F = ftn( 1,1,1)\n",
    "G = ftn( 1, 2, 3)\n",
    "F/G\n"
   ]
  },
  {
   "cell_type": "code",
   "execution_count": 3,
   "id": "26fbc367",
   "metadata": {},
   "outputs": [
    {
     "data": {
      "text/plain": [
       "ftn(1.0,2.0,3.0)"
      ]
     },
     "execution_count": 3,
     "metadata": {},
     "output_type": "execute_result"
    }
   ],
   "source": [
    "G/F"
   ]
  },
  {
   "cell_type": "markdown",
   "id": "5780c7df",
   "metadata": {},
   "source": [
    "###### "
   ]
  },
  {
   "cell_type": "code",
   "execution_count": 4,
   "id": "69d3ff00",
   "metadata": {},
   "outputs": [
    {
     "data": {
      "text/plain": [
       "ftn(6,6,6)"
      ]
     },
     "execution_count": 4,
     "metadata": {},
     "output_type": "execute_result"
    }
   ],
   "source": [
    "6*F"
   ]
  },
  {
   "cell_type": "code",
   "execution_count": 5,
   "id": "4afecf0c",
   "metadata": {},
   "outputs": [
    {
     "data": {
      "text/plain": [
       "3"
      ]
     },
     "execution_count": 5,
     "metadata": {},
     "output_type": "execute_result"
    }
   ],
   "source": [
    "G[2]"
   ]
  },
  {
   "cell_type": "code",
   "execution_count": 6,
   "id": "f787032b",
   "metadata": {},
   "outputs": [],
   "source": [
    "G[2] = 5"
   ]
  },
  {
   "cell_type": "code",
   "execution_count": 7,
   "id": "3bdbe806",
   "metadata": {},
   "outputs": [
    {
     "data": {
      "text/plain": [
       "ftn(1,2,5)"
      ]
     },
     "execution_count": 7,
     "metadata": {},
     "output_type": "execute_result"
    }
   ],
   "source": [
    "G"
   ]
  },
  {
   "cell_type": "code",
   "execution_count": 8,
   "id": "0819ffc4",
   "metadata": {},
   "outputs": [],
   "source": [
    "# G[7] = 3 # this will throw an IndexError"
   ]
  },
  {
   "cell_type": "markdown",
   "id": "af0de504",
   "metadata": {},
   "source": [
    "$$\n",
    "\\mu_{(A)}(x)= \\begin{cases}0, & x<a_{1} \\\\ \\frac{x-a_{1}}{a_{2}-a_{1}}, & a_{1} \\leq x \\leq a_{2} \\\\ \\frac{a_{3}-x}{a_{3}-a_{2}}, & a_{2} \\leq x \\leq a_{3} \\\\ 0, & x>a_{3}\\end{cases}\n",
    "$$"
   ]
  },
  {
   "cell_type": "code",
   "execution_count": 9,
   "id": "9b2a6c46",
   "metadata": {},
   "outputs": [],
   "source": [
    "def tfn( fuzzy_num, pos):\n",
    "    if pos < fuzzy_num[0]:\n",
    "        return 0\n",
    "    elif pos >= fuzzy_num[0] and pos <= fuzzy_num[1]:\n",
    "        return (pos - fuzzy_num[0])/(fuzzy_num[1] - fuzzy_num[0])\n",
    "    elif pos > fuzzy_num[1] and pos <= fuzzy_num[2]:\n",
    "        return (fuzzy_num[2]- pos)/(fuzzy_num[2] - fuzzy_num[1])\n",
    "    else:\n",
    "        return 0\n",
    "\n",
    "import numpy as np\n",
    "x = list(np.arange( 0, 10, 0.1))\n",
    "    \n",
    "f1 = []\n",
    "for x0 in x :\n",
    "    f1.append( tfn( ftn(1,2,3), x0))\n",
    "    \n"
   ]
  },
  {
   "cell_type": "code",
   "execution_count": 10,
   "id": "ec7f516c",
   "metadata": {},
   "outputs": [
    {
     "data": {
      "image/png": "[encoded data removed]",
      "text/plain": [
       "<Figure size 432x288 with 1 Axes>"
      ]
     },
     "metadata": {
      "needs_background": "light"
     },
     "output_type": "display_data"
    }
   ],
   "source": [
    "\n",
    "import matplotlib.pyplot as plt\n",
    "plt.plot(x, f1, '-')\n",
    "#plt.ylabel('some numbers')\n",
    "plt.show()"
   ]
  },
  {
   "cell_type": "code",
   "execution_count": null,
   "id": "3fc6b55c",
   "metadata": {},
   "outputs": [],
   "source": []
  }
 ],
 "metadata": {
  "kernelspec": {
   "display_name": "Python 3 (ipykernel)",
   "language": "python",
   "name": "python3"
  },
  "language_info": {
   "codemirror_mode": {
    "name": "ipython",
    "version": 3
   },
   "file_extension": ".py",
   "mimetype": "text/x-python",
   "name": "python",
   "nbconvert_exporter": "python",
   "pygments_lexer": "ipython3",
   "version": "3.10.2"
  }
 },
 "nbformat": 4,
 "nbformat_minor": 5
}
