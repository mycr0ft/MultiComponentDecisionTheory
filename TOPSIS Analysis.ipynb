{
 "cells": [
  {
   "cell_type": "markdown",
   "id": "78aff263",
   "metadata": {},
   "source": [
    "## TOPSIS (Technique for Order of Preference by Similarity to Ideal Solution)"
   ]
  },
  {
   "cell_type": "markdown",
   "id": "a8774dac",
   "metadata": {},
   "source": [
    "|               | Price  | Storage Space (GB)| Camera (MP)| Looks |\n",
    "|---------------|--------|-------------------|------------|-------|\n",
    "| Phone 1       |  250   |   16              |  12        |   5   |\n",
    "| Phone 2       |  200   |   16              |  8         |   3   |\n",
    "| Phone 3       |  300   |   32              |  16        |   4   |\n",
    "| Phone 4       |  275   |   32              |  8         |   4   |\n",
    "| Phone 5       |  225   |   16              |  16        |   2   |\n",
    "\n"
   ]
  },
  {
   "cell_type": "code",
   "execution_count": 1,
   "id": "c37b403f",
   "metadata": {},
   "outputs": [],
   "source": [
    "num_criteria = 4\n",
    "prices = [ 250, 200, 300, 275, 225]\n",
    "storage = [ 16, 16, 32, 32, 16]\n",
    "camera = [12, 8, 16, 8, 16 ]\n",
    "looks = [5, 3, 4, 4, 2]"
   ]
  },
  {
   "cell_type": "code",
   "execution_count": 2,
   "id": "5f5d23bc",
   "metadata": {},
   "outputs": [],
   "source": [
    "import math"
   ]
  },
  {
   "cell_type": "markdown",
   "id": "c42896f1",
   "metadata": {},
   "source": [
    "\\\\[ \\bar X_{ij} = \\frac{X_{ij}}{\\sqrt{\\sum_{j=1}^{n} X^2_{ij}}} \\\\]"
   ]
  },
  {
   "cell_type": "code",
   "execution_count": 3,
   "id": "de5a6f7e",
   "metadata": {},
   "outputs": [],
   "source": [
    "\n",
    "\n",
    "def normalize_scale( vec, num_criteria):\n",
    "    vec_squared = [ v**2 for v in vec]\n",
    "    summation = sum(vec_squared)\n",
    "    denom = math.sqrt(summation)\n",
    "    return [v/denom/num_criteria for v in vec]"
   ]
  },
  {
   "cell_type": "code",
   "execution_count": 4,
   "id": "4f8031fc",
   "metadata": {
    "scrolled": true
   },
   "outputs": [],
   "source": [
    "prices_n, storage_n, camera_n, looks_n = normalize_scale(prices, 4), normalize_scale(storage, 4), normalize_scale(camera,4), normalize_scale(looks, 4)\n"
   ]
  },
  {
   "cell_type": "code",
   "execution_count": 5,
   "id": "fb880b2b",
   "metadata": {},
   "outputs": [
    {
     "data": {
      "text/plain": [
       "([0.11070186069251191,\n",
       "  0.08856148855400953,\n",
       "  0.1328422328310143,\n",
       "  0.1217720467617631,\n",
       "  0.09963167462326072],\n",
       " [0.07537783614444091,\n",
       "  0.07537783614444091,\n",
       "  0.15075567228888181,\n",
       "  0.15075567228888181,\n",
       "  0.07537783614444091],\n",
       " [0.10714285714285714,\n",
       "  0.07142857142857142,\n",
       "  0.14285714285714285,\n",
       "  0.07142857142857142,\n",
       "  0.14285714285714285],\n",
       " [0.1494035761667992,\n",
       "  0.08964214570007951,\n",
       "  0.11952286093343936,\n",
       "  0.11952286093343936,\n",
       "  0.05976143046671968])"
      ]
     },
     "execution_count": 5,
     "metadata": {},
     "output_type": "execute_result"
    }
   ],
   "source": [
    "prices_n, storage_n, camera_n, looks_n"
   ]
  },
  {
   "cell_type": "markdown",
   "id": "7bb79eb8",
   "metadata": {},
   "source": [
    "$ V^{+}_{j} $ is the idea best value and $ V^{-}_{j} $ is the idea worst value"
   ]
  },
  {
   "cell_type": "markdown",
   "id": "c78caad0",
   "metadata": {},
   "source": [
    "$ V^+_0 = 0.0885614 $ best_price is the lowest price. \n",
    "\n",
    "$ V^+_1 = 0.1508 $ best storage is the maximum storage\n",
    "\n"
   ]
  },
  {
   "cell_type": "code",
   "execution_count": 6,
   "id": "636163b3",
   "metadata": {},
   "outputs": [
    {
     "data": {
      "text/plain": [
       "[0.08856148855400953,\n",
       " 0.15075567228888181,\n",
       " 0.14285714285714285,\n",
       " 0.1494035761667992]"
      ]
     },
     "execution_count": 6,
     "metadata": {},
     "output_type": "execute_result"
    }
   ],
   "source": [
    "ideal_vector = [ min(prices_n), max(storage_n), max(camera_n), max(looks_n) ]\n",
    "ideal_vector"
   ]
  },
  {
   "cell_type": "code",
   "execution_count": 7,
   "id": "7a0e72e8",
   "metadata": {},
   "outputs": [
    {
     "data": {
      "text/plain": [
       "[0.1328422328310143,\n",
       " 0.07537783614444091,\n",
       " 0.07142857142857142,\n",
       " 0.05976143046671968]"
      ]
     },
     "execution_count": 7,
     "metadata": {},
     "output_type": "execute_result"
    }
   ],
   "source": [
    "anti_vector = [ max(prices_n), min(storage_n), min(camera_n), min(looks_n) ]\n",
    "anti_vector"
   ]
  },
  {
   "cell_type": "markdown",
   "id": "8d1bf02c",
   "metadata": {},
   "source": [
    "Euclidean distance from ideal best \n",
    "$$ S^{+}_i = \\sqrt{ \\sum_{j=1}^m \\left ( V_{ij} - V^{+}_j \\right )^2 } $$"
   ]
  },
  {
   "cell_type": "markdown",
   "id": "ae90269b",
   "metadata": {},
   "source": [
    "Euclidean distance from ideal worst\n",
    "$$ S^{-}_i = \\sqrt{ \\sum_{j=1}^m \\left ( V_{ij} - V^{-}_j \\right )^2 } $$"
   ]
  },
  {
   "cell_type": "markdown",
   "id": "24fb2f8c",
   "metadata": {},
   "source": [
    "Performance Score $P_i$ is given by $$ P_i = \\frac{S^{-}_i}{S^{+}_i + S^{-}_i} $$"
   ]
  },
  {
   "cell_type": "code",
   "execution_count": 8,
   "id": "5abdb451",
   "metadata": {},
   "outputs": [
    {
     "data": {
      "text/plain": [
       "[[0.11070186069251191,\n",
       "  0.07537783614444091,\n",
       "  0.10714285714285714,\n",
       "  0.1494035761667992],\n",
       " [0.08856148855400953,\n",
       "  0.07537783614444091,\n",
       "  0.07142857142857142,\n",
       "  0.08964214570007951],\n",
       " [0.1328422328310143,\n",
       "  0.15075567228888181,\n",
       "  0.14285714285714285,\n",
       "  0.11952286093343936],\n",
       " [0.1217720467617631,\n",
       "  0.15075567228888181,\n",
       "  0.07142857142857142,\n",
       "  0.11952286093343936],\n",
       " [0.09963167462326072,\n",
       "  0.07537783614444091,\n",
       "  0.14285714285714285,\n",
       "  0.05976143046671968]]"
      ]
     },
     "execution_count": 8,
     "metadata": {},
     "output_type": "execute_result"
    }
   ],
   "source": [
    "options = []\n",
    "options_n = []\n",
    "for i in range(len(prices)):\n",
    "    option = [ prices[i], storage[i], camera[i], looks[i]]\n",
    "    option_n = [prices_n[i], storage_n[i], camera_n[i], looks_n[i]]\n",
    "    options.append(option)\n",
    "    options_n.append(option_n)\n",
    "\n",
    "options_n"
   ]
  },
  {
   "cell_type": "code",
   "execution_count": 9,
   "id": "a0da9075",
   "metadata": {},
   "outputs": [],
   "source": [
    "def distance( a, b):\n",
    "    sd = 0.0\n",
    "    for j in range(len(a)):\n",
    "        sd += (a[j] - b[j])**2\n",
    "    dist = math.sqrt( sd)\n",
    "    return dist\n",
    "\n",
    "diff_from_ideal = []\n",
    "diff_from_worst = []\n",
    "for option_n in options_n:\n",
    "    d = distance( ideal_vector, option_n)\n",
    "    d2 = distance( anti_vector, option_n)\n",
    "    diff_from_ideal.append(d)\n",
    "    diff_from_worst.append(d2)\n"
   ]
  },
  {
   "cell_type": "code",
   "execution_count": 10,
   "id": "46dfcdbb",
   "metadata": {},
   "outputs": [
    {
     "data": {
      "text/plain": [
       "[0.08629904092358841,\n",
       " 0.11981355336343749,\n",
       " 0.053419485738657506,\n",
       " 0.08424867438514544,\n",
       " 0.11764387568904856]"
      ]
     },
     "execution_count": 10,
     "metadata": {},
     "output_type": "execute_result"
    }
   ],
   "source": [
    "diff_from_ideal"
   ]
  },
  {
   "cell_type": "code",
   "execution_count": 11,
   "id": "d5533d26",
   "metadata": {},
   "outputs": [
    {
     "data": {
      "text/plain": [
       "[0.09900212405917001,\n",
       " 0.053419485738657506,\n",
       " 0.11981355336343749,\n",
       " 0.09682869292133708,\n",
       " 0.07877170807337568]"
      ]
     },
     "execution_count": 11,
     "metadata": {},
     "output_type": "execute_result"
    }
   ],
   "source": [
    "diff_from_worst"
   ]
  },
  {
   "cell_type": "code",
   "execution_count": 12,
   "id": "cf18b591",
   "metadata": {},
   "outputs": [
    {
     "data": {
      "text/plain": [
       "[0.5342768571821003,\n",
       " 0.3083677687324685,\n",
       " 0.6916322312675315,\n",
       " 0.534736584486838,\n",
       " 0.40104612151678615]"
      ]
     },
     "execution_count": 12,
     "metadata": {},
     "output_type": "execute_result"
    }
   ],
   "source": [
    "performance_score = []\n",
    "for j in range(len(diff_from_ideal)):\n",
    "    P = diff_from_worst[j]/ (diff_from_ideal[j] + diff_from_worst[j])\n",
    "    performance_score.append(P)\n",
    "performance_score"
   ]
  },
  {
   "cell_type": "code",
   "execution_count": null,
   "id": "1938f3e5",
   "metadata": {},
   "outputs": [],
   "source": []
  }
 ],
 "metadata": {
  "kernelspec": {
   "display_name": "Python 3 (ipykernel)",
   "language": "python",
   "name": "python3"
  },
  "language_info": {
   "codemirror_mode": {
    "name": "ipython",
    "version": 3
   },
   "file_extension": ".py",
   "mimetype": "text/x-python",
   "name": "python",
   "nbconvert_exporter": "python",
   "pygments_lexer": "ipython3",
   "version": "3.10.2"
  }
 },
 "nbformat": 4,
 "nbformat_minor": 5
}
